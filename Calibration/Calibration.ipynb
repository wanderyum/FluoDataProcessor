{
 "cells": [
  {
   "cell_type": "markdown",
   "metadata": {},
   "source": [
    "## 设置参数\n",
    "para:  字典, 用于存放变量"
   ]
  },
  {
   "cell_type": "code",
   "execution_count": 1,
   "metadata": {},
   "outputs": [
    {
     "name": "stdout",
     "output_type": "stream",
     "text": [
      "{'20190714': {'A13-20': [(27, 37), (260, 280)],\n",
      "              'A3-10': [(26, 36), (260, 280)],\n",
      "              'B13-20': [(28, 38), (260, 280)],\n",
      "              'B3-10': [(26, 36), (260, 280)]},\n",
      " '20190801': {'A13-20': [(24, 34), (240, 260)],\n",
      "              'A3-10': [(22, 32), (240, 260)],\n",
      "              'B13-20': [(25, 35), (240, 260)],\n",
      "              'B3-10': [(23, 33), (240, 260)]},\n",
      " '20190802': {'A13-20': [(26, 36), (240, 260)],\n",
      "              'A3-10': [(24, 34), (240, 260)],\n",
      "              'B13-20': [(27, 37), (240, 260)],\n",
      "              'B3-10': [(25, 35), (240, 260)]}}\n"
     ]
    }
   ],
   "source": [
    "from parameters import *\n",
    "from pprint import pprint\n",
    "\n",
    "date = '20190802'\n",
    "para[date] = {}\n",
    "p = para[date]\n",
    "\n",
    "p['A3-10'] = [(24, 34), (240, 260)]\n",
    "p['A13-20']= [(26, 36), (240, 260)]\n",
    "p['B3-10'] = [(25, 35), (240, 260)]\n",
    "p['B13-20']= [(27, 37), (240, 260)]\n",
    "\n",
    "with open('parameters.py', 'w') as f:\n",
    "    print('para = {}'.format(para), file=f)\n",
    "pprint(para)"
   ]
  },
  {
   "cell_type": "markdown",
   "metadata": {},
   "source": [
    "## 自动校准"
   ]
  },
  {
   "cell_type": "code",
   "execution_count": 2,
   "metadata": {},
   "outputs": [
    {
     "data": {
      "text/plain": [
       "<Figure size 1600x900 with 1 Axes>"
      ]
     },
     "metadata": {},
     "output_type": "display_data"
    },
    {
     "name": "stdout",
     "output_type": "stream",
     "text": [
      "         A3        A4        A5        A6        A7        A8        A9  \\\n",
      "0  0.504699  0.425062  0.501427  0.569297  0.385472  0.434338  0.767308   \n",
      "1  0.602139  0.524093  0.641335  0.740991  0.471946  0.503310  0.829612   \n",
      "2  0.625618  0.541456  0.635551  0.740780  0.466658  0.519396  0.898517   \n",
      "\n",
      "        A10       A13       A14  ...        B9       B10       B13       B14  \\\n",
      "0  0.644348  0.494168  0.421663  ...  1.000000  0.912985  0.728140  0.683619   \n",
      "1  0.716802  0.680003  0.566103  ...  0.939188  0.899751  0.902858  0.833066   \n",
      "2  0.755505  0.654001  0.583979  ...  0.923572  0.891933  0.912803  0.849505   \n",
      "\n",
      "        B15       B16       B17       B18       B19       B20  \n",
      "0  0.695809  0.671283  0.762560  0.788651  0.856177  0.868023  \n",
      "1  0.910338  0.859695  0.928831  0.983359  1.000000  0.961711  \n",
      "2  0.900555  0.862552  0.943474  0.982590  1.000000  0.924497  \n",
      "\n",
      "[3 rows x 32 columns]\n"
     ]
    }
   ],
   "source": [
    "# 更新参数列表\n",
    "if 'para' in dir():\n",
    "    with open('parameters.py', 'w') as f:\n",
    "        print('para = {}'.format(para), file=f)\n",
    "else:\n",
    "    from parameters import *\n",
    "    \n",
    "import pandas as pd\n",
    "import numpy as np\n",
    "import matplotlib.pyplot as plt\n",
    "from misc import get_file_names, ini_res, calibration_single_file\n",
    "\n",
    "\n",
    "\n",
    "files = get_file_names(directory='.', filter='.csv')\n",
    "res = ini_res()\n",
    "df = pd.DataFrame()\n",
    "\n",
    "for f in files:\n",
    "    res = calibration_single_file(f, para[f[:-4]], res)\n",
    "    tmp = pd.DataFrame([res])\n",
    "    df = df.append(tmp, ignore_index=True)\n",
    "    \n",
    "#print(df)\n",
    "\n",
    "for i in range(df.shape[0]):\n",
    "    df.iloc[i] = df.iloc[i] / df.iloc[i].max()\n",
    "\n",
    "arr = np.array(df.iloc[:])\n",
    "x = np.arange(arr.shape[1])\n",
    "y = arr.mean(axis=0)\n",
    "std = np.std(arr, axis=0)\n",
    "se = std / np.sqrt(len(files))\n",
    "#print(y)\n",
    "\n",
    "coef = dict(zip(df.columns, y))\n",
    "with open('../coef.py', 'w') as f:\n",
    "    print('coef = {}'.format(coef), file=f)\n",
    "\n",
    "if True:\n",
    "    plt.figure(figsize=(16,9))\n",
    "    plt.bar(x, y, yerr=se, tick_label=df.columns)\n",
    "    plt.show()\n",
    "    print(df)\n"
   ]
  },
  {
   "cell_type": "code",
   "execution_count": null,
   "metadata": {},
   "outputs": [],
   "source": []
  }
 ],
 "metadata": {
  "kernelspec": {
   "display_name": "Python 3",
   "language": "python",
   "name": "python3"
  },
  "language_info": {
   "codemirror_mode": {
    "name": "ipython",
    "version": 3
   },
   "file_extension": ".py",
   "mimetype": "text/x-python",
   "name": "python",
   "nbconvert_exporter": "python",
   "pygments_lexer": "ipython3",
   "version": "3.7.3"
  }
 },
 "nbformat": 4,
 "nbformat_minor": 2
}
